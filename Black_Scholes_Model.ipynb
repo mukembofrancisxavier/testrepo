{
 "cells": [
  {
   "cell_type": "code",
   "execution_count": 1,
   "metadata": {},
   "outputs": [],
   "source": [
    "import numpy as np\n",
    "import pandas as pd\n",
    "from scipy import log,exp,sqrt,stats"
   ]
  },
  {
   "cell_type": "code",
   "execution_count": 2,
   "metadata": {},
   "outputs": [],
   "source": [
    "def blackscholes_call(S,E,T,rf,sigma):\n",
    "    #first we have to calculate d1 and d2 parameters\n",
    "    d1=(log(S/E)+(rf+sigma*sigma/2.0)*T)/(sigma*sqrt(T))\n",
    "    d2=d1-sigma*sqrt(T)\n",
    "    \n",
    "    #we need N(X) normal distribution function\n",
    "    return S*stats.norm.cdf(d1)-E*exp(-rf*T)*stats.norm.cdf(d2)"
   ]
  },
  {
   "cell_type": "code",
   "execution_count": 3,
   "metadata": {},
   "outputs": [],
   "source": [
    "def blackscholes_put(S,E,T,rf,sigma):\n",
    "    #first we have to calculate d1 and d2 parameters\n",
    "    d1=(log(S/E)+(rf+sigma*sigma/2.0)*T)/(sigma*sqrt(T))\n",
    "    d2=d1-sigma*sqrt(T)\n",
    "    \n",
    "    #we need N(X) normal distribution function\n",
    "    return -S*stats.norm.cdf(-d1)+E*exp(-rf*T)*stats.norm.cdf(-d2)"
   ]
  },
  {
   "cell_type": "code",
   "execution_count": 4,
   "metadata": {},
   "outputs": [],
   "source": [
    "data=pd.read_csv(r'D:\\Data Science\\Continuous Time Stochastic Processes\\20200701_Index Price and Volume Data.csv')"
   ]
  },
  {
   "cell_type": "code",
   "execution_count": 5,
   "metadata": {},
   "outputs": [
    {
     "data": {
      "text/html": [
       "<div>\n",
       "<style scoped>\n",
       "    .dataframe tbody tr th:only-of-type {\n",
       "        vertical-align: middle;\n",
       "    }\n",
       "\n",
       "    .dataframe tbody tr th {\n",
       "        vertical-align: top;\n",
       "    }\n",
       "\n",
       "    .dataframe thead th {\n",
       "        text-align: right;\n",
       "    }\n",
       "</style>\n",
       "<table border=\"1\" class=\"dataframe\">\n",
       "  <thead>\n",
       "    <tr style=\"text-align: right;\">\n",
       "      <th></th>\n",
       "      <th>Date</th>\n",
       "      <th>S&amp;P 500</th>\n",
       "      <th>NASDAQ Composite Index</th>\n",
       "      <th>CBOE Market Volatility Index</th>\n",
       "    </tr>\n",
       "  </thead>\n",
       "  <tbody>\n",
       "    <tr>\n",
       "      <th>0</th>\n",
       "      <td>01/01/2019</td>\n",
       "      <td>2506.85</td>\n",
       "      <td>6635.28</td>\n",
       "      <td>25.42</td>\n",
       "    </tr>\n",
       "    <tr>\n",
       "      <th>1</th>\n",
       "      <td>01/02/2019</td>\n",
       "      <td>2510.03</td>\n",
       "      <td>6665.94</td>\n",
       "      <td>23.22</td>\n",
       "    </tr>\n",
       "    <tr>\n",
       "      <th>2</th>\n",
       "      <td>01/03/2019</td>\n",
       "      <td>2447.89</td>\n",
       "      <td>6463.50</td>\n",
       "      <td>25.45</td>\n",
       "    </tr>\n",
       "    <tr>\n",
       "      <th>3</th>\n",
       "      <td>01/04/2019</td>\n",
       "      <td>2531.94</td>\n",
       "      <td>6738.86</td>\n",
       "      <td>21.38</td>\n",
       "    </tr>\n",
       "    <tr>\n",
       "      <th>4</th>\n",
       "      <td>01/07/2019</td>\n",
       "      <td>2549.69</td>\n",
       "      <td>6823.47</td>\n",
       "      <td>21.40</td>\n",
       "    </tr>\n",
       "  </tbody>\n",
       "</table>\n",
       "</div>"
      ],
      "text/plain": [
       "         Date  S&P 500  NASDAQ Composite Index  CBOE Market Volatility Index\n",
       "0  01/01/2019  2506.85                 6635.28                         25.42\n",
       "1  01/02/2019  2510.03                 6665.94                         23.22\n",
       "2  01/03/2019  2447.89                 6463.50                         25.45\n",
       "3  01/04/2019  2531.94                 6738.86                         21.38\n",
       "4  01/07/2019  2549.69                 6823.47                         21.40"
      ]
     },
     "execution_count": 5,
     "metadata": {},
     "output_type": "execute_result"
    }
   ],
   "source": [
    "data.head()"
   ]
  },
  {
   "cell_type": "code",
   "execution_count": 6,
   "metadata": {},
   "outputs": [],
   "source": [
    "data.set_index(\"Date\", inplace=True)"
   ]
  },
  {
   "cell_type": "code",
   "execution_count": 7,
   "metadata": {},
   "outputs": [],
   "source": [
    "data=data[['S&P 500']]"
   ]
  },
  {
   "cell_type": "code",
   "execution_count": 8,
   "metadata": {},
   "outputs": [
    {
     "data": {
      "text/plain": [
       "S&P 500    3100.29\n",
       "Name: 06/30/2020, dtype: float64"
      ]
     },
     "execution_count": 8,
     "metadata": {},
     "output_type": "execute_result"
    }
   ],
   "source": [
    "S=data.iloc[-1]\n",
    "S"
   ]
  },
  {
   "cell_type": "code",
   "execution_count": 9,
   "metadata": {},
   "outputs": [
    {
     "data": {
      "text/plain": [
       "S&P 500    0.279918\n",
       "dtype: float64"
      ]
     },
     "execution_count": 9,
     "metadata": {},
     "output_type": "execute_result"
    }
   ],
   "source": [
    "log_returns=np.log(1+data.pct_change())\n",
    "stdev=log_returns.std()*250**0.5\n",
    "stdev"
   ]
  },
  {
   "cell_type": "code",
   "execution_count": 24,
   "metadata": {},
   "outputs": [],
   "source": [
    "S0 =100    #underlying stock price at t=0\n",
    "E=110      #strike price\n",
    "T=1         #expiry 1= 1 year  =365 days\n",
    "rf=0.06     #risk-free rate\n",
    "sigma=0.2   #volatility of the underlying stock"
   ]
  },
  {
   "cell_type": "code",
   "execution_count": 25,
   "metadata": {},
   "outputs": [
    {
     "name": "stdout",
     "output_type": "stream",
     "text": [
      "Call option price according to Black-Scholes model:  6.4372753140771835\n",
      "Put option price according to Black-Scholes model:  10.031374008344542\n"
     ]
    },
    {
     "name": "stderr",
     "output_type": "stream",
     "text": [
      "<ipython-input-2-c9bee9151af9>:3: DeprecationWarning: scipy.log is deprecated and will be removed in SciPy 2.0.0, use numpy.lib.scimath.log instead\n",
      "  d1=(log(S/E)+(rf+sigma*sigma/2.0)*T)/(sigma*sqrt(T))\n",
      "<ipython-input-2-c9bee9151af9>:3: DeprecationWarning: scipy.sqrt is deprecated and will be removed in SciPy 2.0.0, use numpy.lib.scimath.sqrt instead\n",
      "  d1=(log(S/E)+(rf+sigma*sigma/2.0)*T)/(sigma*sqrt(T))\n",
      "<ipython-input-2-c9bee9151af9>:4: DeprecationWarning: scipy.sqrt is deprecated and will be removed in SciPy 2.0.0, use numpy.lib.scimath.sqrt instead\n",
      "  d2=d1-sigma*sqrt(T)\n",
      "<ipython-input-2-c9bee9151af9>:7: DeprecationWarning: scipy.exp is deprecated and will be removed in SciPy 2.0.0, use numpy.exp instead\n",
      "  return S*stats.norm.cdf(d1)-E*exp(-rf*T)*stats.norm.cdf(d2)\n"
     ]
    }
   ],
   "source": [
    "print(\"Call option price according to Black-Scholes model: \",blackscholes_call(S0,E,T,rf,sigma))\n",
    "print(\"Put option price according to Black-Scholes model: \",blackscholes_put(S0,E,T,rf,sigma))"
   ]
  },
  {
   "cell_type": "code",
   "execution_count": null,
   "metadata": {},
   "outputs": [],
   "source": []
  },
  {
   "cell_type": "code",
   "execution_count": null,
   "metadata": {},
   "outputs": [],
   "source": []
  }
 ],
 "metadata": {
  "kernelspec": {
   "display_name": "Python 3",
   "language": "python",
   "name": "python3"
  },
  "language_info": {
   "codemirror_mode": {
    "name": "ipython",
    "version": 3
   },
   "file_extension": ".py",
   "mimetype": "text/x-python",
   "name": "python",
   "nbconvert_exporter": "python",
   "pygments_lexer": "ipython3",
   "version": "3.8.3"
  }
 },
 "nbformat": 4,
 "nbformat_minor": 4
}
